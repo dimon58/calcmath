{
 "cells": [
  {
   "cell_type": "markdown",
   "source": [
    "# Поиск собственных чисел матрицы"
   ],
   "metadata": {
    "collapsed": false,
    "pycharm": {
     "name": "#%% md\n"
    }
   }
  },
  {
   "cell_type": "markdown",
   "source": [
    "## Степенной метод"
   ],
   "metadata": {
    "collapsed": false,
    "pycharm": {
     "name": "#%% md\n"
    }
   }
  },
  {
   "cell_type": "code",
   "execution_count": 1,
   "outputs": [],
   "source": [
    "import numpy as np\n",
    "from tqdm import trange\n",
    "\n",
    "import lesson_2"
   ],
   "metadata": {
    "collapsed": false,
    "pycharm": {
     "name": "#%%\n"
    }
   }
  },
  {
   "cell_type": "code",
   "execution_count": 2,
   "outputs": [],
   "source": [
    "def generate_matrix(eigvals):\n",
    "    \"\"\"\n",
    "    Генерирует случайную матрицу с заданными собственными числами\n",
    "    \"\"\"\n",
    "    J = np.diag(eigvals)\n",
    "\n",
    "    S = np.random.random((len(eigvals), len(eigvals)))\n",
    "\n",
    "    return np.linalg.inv(S) @ J @ S"
   ],
   "metadata": {
    "collapsed": false,
    "pycharm": {
     "name": "#%%\n"
    }
   }
  },
  {
   "cell_type": "code",
   "execution_count": 3,
   "outputs": [],
   "source": [
    "def calc_max_abs_eigval(A, r0=None, iters=10000):\n",
    "    \"\"\"\n",
    "    Степенной метод нахождения максимального собственного значения\n",
    "\n",
    "    \"\"\"\n",
    "    if r0 is None:\n",
    "        r0 = np.random.random((A.shape[0],))\n",
    "\n",
    "    r = r0.copy()\n",
    "\n",
    "    for _ in trange(iters):\n",
    "        r = A @ r\n",
    "        r = r / lesson_2.get_vector_norm_3(r)\n",
    "\n",
    "    return np.dot(r, A @ r) / np.dot(r, r)"
   ],
   "metadata": {
    "collapsed": false,
    "pycharm": {
     "name": "#%%\n"
    }
   }
  },
  {
   "cell_type": "code",
   "execution_count": 6,
   "outputs": [
    {
     "name": "stdout",
     "output_type": "stream",
     "text": [
      "[ 1  2  4  8 16 32 64]\n"
     ]
    },
    {
     "data": {
      "text/plain": "array([[  27.512143  ,    2.06879751,   19.75701698,   22.013218  ,\n           3.03583144,   11.88087641,    9.62878623],\n       [   5.76628178,    5.67511699,   -0.57675576,    6.15750968,\n           8.57636379,   -0.72084941,    3.66868586],\n       [  98.37860281,  137.09394734,   59.11673171,   62.3713496 ,\n         102.71552977,   29.85476199,   86.89592785],\n       [ -68.51688766, -118.49202257,  -38.24754197,  -41.58040712,\n         -88.72206039,  -34.33088503,  -76.92689444],\n       [ 124.60425032,  196.11093944,   61.4560529 ,   77.78931639,\n         156.11498348,   42.58060842,  124.4779362 ],\n       [  66.00806555,   73.25535919,   39.00676602,   53.77120943,\n          63.44685663,   44.01932427,   60.97064928],\n       [-163.44073837, -171.68212964,  -94.38038477, -119.11976216,\n        -143.3551864 ,  -57.25551344, -123.85789233]])"
     },
     "execution_count": 6,
     "metadata": {},
     "output_type": "execute_result"
    }
   ],
   "source": [
    "# Заданные собственные числа\n",
    "l = np.array([1, 2, 4, 8, 16, 32, 64])\n",
    "A = generate_matrix(l)\n",
    "\n",
    "print(l)\n",
    "A"
   ],
   "metadata": {
    "collapsed": false,
    "pycharm": {
     "name": "#%%\n"
    }
   }
  },
  {
   "cell_type": "code",
   "execution_count": 7,
   "outputs": [
    {
     "name": "stderr",
     "output_type": "stream",
     "text": [
      "100%|██████████| 10000/10000 [00:00<00:00, 129876.73it/s]\n"
     ]
    },
    {
     "data": {
      "text/plain": "(64.00000000000011, 63.99999999999996)"
     },
     "execution_count": 7,
     "metadata": {},
     "output_type": "execute_result"
    }
   ],
   "source": [
    "np.abs(np.linalg.eigvals(A)).max(), calc_max_abs_eigval(A)"
   ],
   "metadata": {
    "collapsed": false,
    "pycharm": {
     "name": "#%%\n"
    }
   }
  },
  {
   "cell_type": "code",
   "execution_count": 23,
   "outputs": [
    {
     "name": "stderr",
     "output_type": "stream",
     "text": [
      "100%|██████████| 10000/10000 [00:00<00:00, 136990.41it/s]\n"
     ]
    },
    {
     "data": {
      "text/plain": "(0.7333445240292409, 0.7333445240292401)"
     },
     "execution_count": 23,
     "metadata": {},
     "output_type": "execute_result"
    }
   ],
   "source": [
    "# Случайная матрица с действительными собственными числами\n",
    "A = generate_matrix(np.random.random(10))\n",
    "\n",
    "np.abs(np.linalg.eigvals(A)).max(), calc_max_abs_eigval(A)"
   ],
   "metadata": {
    "collapsed": false,
    "pycharm": {
     "name": "#%%\n"
    }
   }
  },
  {
   "cell_type": "code",
   "execution_count": 9,
   "outputs": [
    {
     "name": "stdout",
     "output_type": "stream",
     "text": [
      "[ 4.69473223+0.j         -0.93417033+0.j          0.92001381+0.j\n",
      " -0.41413735+0.j          0.27423755+0.05913139j  0.27423755-0.05913139j\n",
      " -0.04298094+0.65181669j -0.04298094-0.65181669j -0.10583629+0.54314632j\n",
      " -0.10583629-0.54314632j]\n"
     ]
    },
    {
     "name": "stderr",
     "output_type": "stream",
     "text": [
      "100%|██████████| 10000/10000 [00:00<00:00, 126566.24it/s]\n"
     ]
    },
    {
     "data": {
      "text/plain": "(4.694732230777673, 4.694732230777667)"
     },
     "execution_count": 9,
     "metadata": {},
     "output_type": "execute_result"
    }
   ],
   "source": [
    "# Работа с комплексными числами\n",
    "A = np.random.random((10, 10))\n",
    "\n",
    "print(np.linalg.eigvals(A))\n",
    "\n",
    "np.abs(np.linalg.eigvals(A)).max(), calc_max_abs_eigval(A)"
   ],
   "metadata": {
    "collapsed": false,
    "pycharm": {
     "name": "#%%\n"
    }
   }
  },
  {
   "cell_type": "markdown",
   "source": [
    "Видно, что поиск максимального по модулю собственного числа степенным методом выдаёт тот же результат, что и честный расчёт."
   ],
   "metadata": {
    "collapsed": false,
    "pycharm": {
     "name": "#%% md\n"
    }
   }
  },
  {
   "cell_type": "markdown",
   "source": [
    "## Метод вращений для поиска спектра самосопряженной матрицы"
   ],
   "metadata": {
    "collapsed": false,
    "pycharm": {
     "name": "#%% md\n"
    }
   }
  },
  {
   "cell_type": "code",
   "execution_count": 4,
   "outputs": [],
   "source": [
    "def findMax(a):\n",
    "    m = [a[0][1], 0, 1]\n",
    "    for i in range(len(a)):\n",
    "        for j in range(len(a)):\n",
    "            if j > i:\n",
    "                if a[i][j] > m[0]:\n",
    "                    m = [a[i][j], i, j]\n",
    "    return m"
   ],
   "metadata": {
    "collapsed": false,
    "pycharm": {
     "name": "#%%\n"
    }
   }
  },
  {
   "cell_type": "code",
   "execution_count": 5,
   "outputs": [],
   "source": [
    "def null(Q, t=None):\n",
    "    if t == None:\n",
    "        q = Q.tolist()\n",
    "    for i in range(len(q)):\n",
    "        for j in range(len(q[i])):\n",
    "            if abs(q[i][j]) < 1.0e-7:\n",
    "                q[i][j] = 0.\n",
    "    return q"
   ],
   "metadata": {
    "collapsed": false,
    "pycharm": {
     "name": "#%%\n"
    }
   }
  },
  {
   "cell_type": "code",
   "execution_count": 10,
   "outputs": [],
   "source": [
    "def complete(T):\n",
    "    q = T[\"A\"][-1]\n",
    "    y = True\n",
    "    for i in range(len(q)):\n",
    "        for j in range(len(q[i])):\n",
    "            if i != j:\n",
    "                y = y and abs(q[i][j]) < 1.0e-7\n",
    "    return y"
   ],
   "metadata": {
    "collapsed": false,
    "pycharm": {
     "name": "#%%\n"
    }
   }
  },
  {
   "cell_type": "code",
   "execution_count": 10,
   "outputs": [],
   "source": [],
   "metadata": {
    "collapsed": false,
    "pycharm": {
     "name": "#%%\n"
    }
   }
  },
  {
   "cell_type": "code",
   "execution_count": 116,
   "outputs": [],
   "source": [
    "from math import sin, cos, atan\n",
    "from numpy import matrix\n",
    "\n",
    "\n",
    "def spectr(A):\n",
    "    \"\"\"\n",
    "    Метод вращений для симметричной матрицы\n",
    "\n",
    "    Возвращает кортеж:\n",
    "        - Первый элемент - список собственных значений\n",
    "        - Второй - матрица, строки которой являются соответствующие собственные векторы\n",
    "    \"\"\"\n",
    "\n",
    "    E = np.eye(*A.shape)\n",
    "    T = {\"H\": [], \"A\": [A.tolist()]}\n",
    "\n",
    "    i = 0\n",
    "    while not complete(T) and i <= 9:\n",
    "        i += 1\n",
    "\n",
    "        A = T[\"A\"][i - 1]\n",
    "\n",
    "        p = findMax(A)\n",
    "        k, m = p[1], p[2]\n",
    "\n",
    "        f = 1. / 2 * atan(2. * A[k][m] / (A[k][k] - A[m][m]))\n",
    "\n",
    "        H = E.copy().tolist()\n",
    "        H[k][k] = cos(f)\n",
    "        H[k][m] = -sin(f)\n",
    "        H[m][k] = sin(f)\n",
    "        H[m][m] = cos(f)\n",
    "        T[\"H\"].append(H)\n",
    "\n",
    "        H = matrix(H)\n",
    "        A = matrix(A)\n",
    "\n",
    "        Ai = null((H.T * A) * H)\n",
    "        T[\"A\"].append(Ai)\n",
    "\n",
    "    V = matrix(T[\"H\"][0])\n",
    "    for h in T[\"H\"][1:]:\n",
    "        V = V * h\n",
    "\n",
    "    return np.diag(A), V.T / np.max(V, axis=0)"
   ],
   "metadata": {
    "collapsed": false,
    "pycharm": {
     "name": "#%%\n"
    }
   }
  },
  {
   "cell_type": "code",
   "execution_count": 121,
   "outputs": [
    {
     "data": {
      "text/plain": "array([0.13164291, 0.30096253, 0.37416821, 0.46817039, 0.48499203,\n       0.50596918, 0.60599736, 0.77090845, 0.88227796, 0.94991114])"
     },
     "execution_count": 121,
     "metadata": {},
     "output_type": "execute_result"
    }
   ],
   "source": [
    "# l = np.random.random(10)\n",
    "np.sort(l)"
   ],
   "metadata": {
    "collapsed": false,
    "pycharm": {
     "name": "#%%\n"
    }
   }
  },
  {
   "cell_type": "code",
   "execution_count": 122,
   "outputs": [
    {
     "name": "stdout",
     "output_type": "stream",
     "text": [
      "L1 = 0.56779088\n",
      "L2 = 0.26676685\n",
      "L3 = 0.64716179\n",
      "L4 = 0.57685150\n",
      "L5 = 1.56597615\n",
      "L6 = 0.36818354\n",
      "L7 = 0.44939555\n",
      "L8 = 0.11450090\n",
      "L9 = 0.26449336\n",
      "L10 = 0.65387962\n",
      "V1 :\n",
      "    1.00000000\n",
      "    0.00000000\n",
      "    -0.21475266\n",
      "    0.00000000\n",
      "    -1.19761201\n",
      "    0.00000000\n",
      "    -0.17526766\n",
      "    -0.63558088\n",
      "    0.00000000\n",
      "    -0.17116552\n",
      "V1 :\n",
      "    0.24859465\n",
      "    1.00000000\n",
      "    0.00000000\n",
      "    0.00000000\n",
      "    0.22893274\n",
      "    0.00000000\n",
      "    0.00000000\n",
      "    0.10124033\n",
      "    0.00000000\n",
      "    -0.52536492\n",
      "V1 :\n",
      "    -0.28704188\n",
      "    0.00000000\n",
      "    1.00000000\n",
      "    0.00000000\n",
      "    -0.20170169\n",
      "    0.00000000\n",
      "    -0.28009451\n",
      "    -0.25853869\n",
      "    0.00000000\n",
      "    -0.27353889\n",
      "V1 :\n",
      "    0.00000000\n",
      "    0.00000000\n",
      "    0.00000000\n",
      "    1.00000000\n",
      "    0.00000000\n",
      "    0.00000000\n",
      "    0.00000000\n",
      "    0.00000000\n",
      "    0.00000000\n",
      "    0.00000000\n",
      "V1 :\n",
      "    1.00000000\n",
      "    0.00000000\n",
      "    0.83674805\n",
      "    0.00000000\n",
      "    0.21914712\n",
      "    0.36220930\n",
      "    0.68290131\n",
      "    0.50978410\n",
      "    0.29632447\n",
      "    0.66691798\n",
      "V1 :\n",
      "    -0.12407885\n",
      "    0.00000000\n",
      "    -0.10382274\n",
      "    0.00000000\n",
      "    -0.02719152\n",
      "    1.00000000\n",
      "    -0.08473361\n",
      "    -0.06325343\n",
      "    0.00000000\n",
      "    -0.08275042\n",
      "V1 :\n",
      "    -0.33394212\n",
      "    0.00000000\n",
      "    0.00000000\n",
      "    0.00000000\n",
      "    -0.30752988\n",
      "    0.00000000\n",
      "    1.00000000\n",
      "    -0.13599814\n",
      "    0.00000000\n",
      "    -0.31823285\n",
      "V1 :\n",
      "    -0.16234322\n",
      "    0.00000000\n",
      "    0.00000000\n",
      "    0.00000000\n",
      "    -0.62096812\n",
      "    0.00000000\n",
      "    -0.15841397\n",
      "    1.00000000\n",
      "    0.00000000\n",
      "    -0.15470629\n",
      "V1 :\n",
      "    -0.09714340\n",
      "    0.00000000\n",
      "    -0.08128455\n",
      "    0.00000000\n",
      "    -0.02128870\n",
      "    -0.03518624\n",
      "    -0.06633935\n",
      "    -0.04952216\n",
      "    1.00000000\n",
      "    -0.06478668\n",
      "V1 :\n",
      "    -0.47318472\n",
      "    0.76226521\n",
      "    0.00000000\n",
      "    0.00000000\n",
      "    -0.43575946\n",
      "    0.00000000\n",
      "    0.00000000\n",
      "    -0.19270478\n",
      "    0.00000000\n",
      "    1.00000000\n"
     ]
    }
   ],
   "source": [
    "V = spectr(A)"
   ],
   "metadata": {
    "collapsed": false,
    "pycharm": {
     "name": "#%%\n"
    }
   }
  },
  {
   "cell_type": "code",
   "execution_count": 123,
   "outputs": [
    {
     "data": {
      "text/plain": "matrix([[ 1.        ,  0.24859465, -0.28704188,  0.        ,  1.        ,\n         -0.12407885, -0.33394212, -0.16234322, -0.0971434 , -0.47318472],\n        [ 0.        ,  1.        ,  0.        ,  0.        ,  0.        ,\n          0.        ,  0.        ,  0.        ,  0.        ,  0.76226521],\n        [-0.21475266,  0.        ,  1.        ,  0.        ,  0.83674805,\n         -0.10382274,  0.        ,  0.        , -0.08128455,  0.        ],\n        [ 0.        ,  0.        ,  0.        ,  1.        ,  0.        ,\n          0.        ,  0.        ,  0.        ,  0.        ,  0.        ],\n        [-1.19761201,  0.22893274, -0.20170169,  0.        ,  0.21914712,\n         -0.02719152, -0.30752988, -0.62096812, -0.0212887 , -0.43575946],\n        [ 0.        ,  0.        ,  0.        ,  0.        ,  0.3622093 ,\n          1.        ,  0.        ,  0.        , -0.03518624,  0.        ],\n        [-0.17526766,  0.        , -0.28009451,  0.        ,  0.68290131,\n         -0.08473361,  1.        , -0.15841397, -0.06633935,  0.        ],\n        [-0.63558088,  0.10124033, -0.25853869,  0.        ,  0.5097841 ,\n         -0.06325343, -0.13599814,  1.        , -0.04952216, -0.19270478],\n        [ 0.        ,  0.        ,  0.        ,  0.        ,  0.29632447,\n          0.        ,  0.        ,  0.        ,  1.        ,  0.        ],\n        [-0.17116552, -0.52536492, -0.27353889,  0.        ,  0.66691798,\n         -0.08275042, -0.31823285, -0.15470629, -0.06478668,  1.        ]])"
     },
     "execution_count": 123,
     "metadata": {},
     "output_type": "execute_result"
    }
   ],
   "source": [
    "V / np.max(V, axis=0)"
   ],
   "metadata": {
    "collapsed": false,
    "pycharm": {
     "name": "#%%\n"
    }
   }
  },
  {
   "cell_type": "code",
   "execution_count": 124,
   "outputs": [
    {
     "ename": "AttributeError",
     "evalue": "module 'numpy' has no attribute 'eig'",
     "output_type": "error",
     "traceback": [
      "\u001B[1;31m---------------------------------------------------------------------------\u001B[0m",
      "\u001B[1;31mAttributeError\u001B[0m                            Traceback (most recent call last)",
      "Cell \u001B[1;32mIn[124], line 1\u001B[0m\n\u001B[1;32m----> 1\u001B[0m \u001B[43mnp\u001B[49m\u001B[38;5;241;43m.\u001B[39;49m\u001B[43meig\u001B[49m()\n",
      "File \u001B[1;32m~\\PycharmProjects\\calcmath\\venv\\lib\\site-packages\\numpy\\__init__.py:311\u001B[0m, in \u001B[0;36m__getattr__\u001B[1;34m(attr)\u001B[0m\n\u001B[0;32m    308\u001B[0m     \u001B[38;5;28;01mfrom\u001B[39;00m \u001B[38;5;21;01m.\u001B[39;00m\u001B[38;5;21;01mtesting\u001B[39;00m \u001B[38;5;28;01mimport\u001B[39;00m Tester\n\u001B[0;32m    309\u001B[0m     \u001B[38;5;28;01mreturn\u001B[39;00m Tester\n\u001B[1;32m--> 311\u001B[0m \u001B[38;5;28;01mraise\u001B[39;00m \u001B[38;5;167;01mAttributeError\u001B[39;00m(\u001B[38;5;124m\"\u001B[39m\u001B[38;5;124mmodule \u001B[39m\u001B[38;5;132;01m{!r}\u001B[39;00m\u001B[38;5;124m has no attribute \u001B[39m\u001B[38;5;124m\"\u001B[39m\n\u001B[0;32m    312\u001B[0m                      \u001B[38;5;124m\"\u001B[39m\u001B[38;5;132;01m{!r}\u001B[39;00m\u001B[38;5;124m\"\u001B[39m\u001B[38;5;241m.\u001B[39mformat(\u001B[38;5;18m__name__\u001B[39m, attr))\n",
      "\u001B[1;31mAttributeError\u001B[0m: module 'numpy' has no attribute 'eig'"
     ]
    }
   ],
   "source": [
    "np.eig()"
   ],
   "metadata": {
    "collapsed": false,
    "pycharm": {
     "name": "#%%\n"
    }
   }
  },
  {
   "cell_type": "code",
   "execution_count": 125,
   "outputs": [
    {
     "name": "stdout",
     "output_type": "stream",
     "text": [
      "L1 = 0.56779088\n",
      "L2 = 0.26676685\n",
      "L3 = 0.64716179\n",
      "L4 = 0.57685150\n",
      "L5 = 1.56597615\n",
      "L6 = 0.36818354\n",
      "L7 = 0.44939555\n",
      "L8 = 0.11450090\n",
      "L9 = 0.26449336\n",
      "L10 = 0.65387962\n",
      "V1 :\n",
      "    1.00000000\n",
      "    0.00000000\n",
      "    -0.21475266\n",
      "    0.00000000\n",
      "    -1.19761201\n",
      "    0.00000000\n",
      "    -0.17526766\n",
      "    -0.63558088\n",
      "    0.00000000\n",
      "    -0.17116552\n",
      "V1 :\n",
      "    0.24859465\n",
      "    1.00000000\n",
      "    0.00000000\n",
      "    0.00000000\n",
      "    0.22893274\n",
      "    0.00000000\n",
      "    0.00000000\n",
      "    0.10124033\n",
      "    0.00000000\n",
      "    -0.52536492\n",
      "V1 :\n",
      "    -0.28704188\n",
      "    0.00000000\n",
      "    1.00000000\n",
      "    0.00000000\n",
      "    -0.20170169\n",
      "    0.00000000\n",
      "    -0.28009451\n",
      "    -0.25853869\n",
      "    0.00000000\n",
      "    -0.27353889\n",
      "V1 :\n",
      "    0.00000000\n",
      "    0.00000000\n",
      "    0.00000000\n",
      "    1.00000000\n",
      "    0.00000000\n",
      "    0.00000000\n",
      "    0.00000000\n",
      "    0.00000000\n",
      "    0.00000000\n",
      "    0.00000000\n",
      "V1 :\n",
      "    1.00000000\n",
      "    0.00000000\n",
      "    0.83674805\n",
      "    0.00000000\n",
      "    0.21914712\n",
      "    0.36220930\n",
      "    0.68290131\n",
      "    0.50978410\n",
      "    0.29632447\n",
      "    0.66691798\n",
      "V1 :\n",
      "    -0.12407885\n",
      "    0.00000000\n",
      "    -0.10382274\n",
      "    0.00000000\n",
      "    -0.02719152\n",
      "    1.00000000\n",
      "    -0.08473361\n",
      "    -0.06325343\n",
      "    0.00000000\n",
      "    -0.08275042\n",
      "V1 :\n",
      "    -0.33394212\n",
      "    0.00000000\n",
      "    0.00000000\n",
      "    0.00000000\n",
      "    -0.30752988\n",
      "    0.00000000\n",
      "    1.00000000\n",
      "    -0.13599814\n",
      "    0.00000000\n",
      "    -0.31823285\n",
      "V1 :\n",
      "    -0.16234322\n",
      "    0.00000000\n",
      "    0.00000000\n",
      "    0.00000000\n",
      "    -0.62096812\n",
      "    0.00000000\n",
      "    -0.15841397\n",
      "    1.00000000\n",
      "    0.00000000\n",
      "    -0.15470629\n",
      "V1 :\n",
      "    -0.09714340\n",
      "    0.00000000\n",
      "    -0.08128455\n",
      "    0.00000000\n",
      "    -0.02128870\n",
      "    -0.03518624\n",
      "    -0.06633935\n",
      "    -0.04952216\n",
      "    1.00000000\n",
      "    -0.06478668\n",
      "V1 :\n",
      "    -0.47318472\n",
      "    0.76226521\n",
      "    0.00000000\n",
      "    0.00000000\n",
      "    -0.43575946\n",
      "    0.00000000\n",
      "    0.00000000\n",
      "    -0.19270478\n",
      "    0.00000000\n",
      "    1.00000000\n"
     ]
    },
    {
     "ename": "ValueError",
     "evalue": "too many values to unpack (expected 2)",
     "output_type": "error",
     "traceback": [
      "\u001B[1;31m---------------------------------------------------------------------------\u001B[0m",
      "\u001B[1;31mValueError\u001B[0m                                Traceback (most recent call last)",
      "Cell \u001B[1;32mIn[125], line 3\u001B[0m\n\u001B[0;32m      1\u001B[0m \u001B[38;5;66;03m#A = generate_matrix(l)\u001B[39;00m\n\u001B[1;32m----> 3\u001B[0m eigvals, eigs \u001B[38;5;241m=\u001B[39m spectr(A)\n\u001B[0;32m      4\u001B[0m eigvals, eigs\n",
      "\u001B[1;31mValueError\u001B[0m: too many values to unpack (expected 2)"
     ]
    }
   ],
   "source": [
    "#A = generate_matrix(l)\n",
    "\n",
    "eigvals, eigs = spectr(A)\n",
    "eigvals, eigs"
   ],
   "metadata": {
    "collapsed": false,
    "pycharm": {
     "name": "#%%\n"
    }
   }
  },
  {
   "cell_type": "code",
   "execution_count": 126,
   "outputs": [
    {
     "data": {
      "text/plain": "(array([-0.60258237,  0.24870163,  0.27549632,  0.37439262,  0.40429395,\n         0.41557708,  0.70186818,  0.95860009,  1.2866183 ,  1.41242933]),\n array([0.13164291, 0.30096253, 0.37416821, 0.46817039, 0.48499203,\n        0.50596918, 0.60599736, 0.77090845, 0.88227796, 0.94991114]))"
     },
     "execution_count": 126,
     "metadata": {},
     "output_type": "execute_result"
    }
   ],
   "source": [
    "np.sort(eigvals), np.sort(np.linalg.eigvals(A))"
   ],
   "metadata": {
    "collapsed": false,
    "pycharm": {
     "name": "#%%\n"
    }
   }
  },
  {
   "cell_type": "code",
   "execution_count": null,
   "outputs": [],
   "source": [],
   "metadata": {
    "collapsed": false,
    "pycharm": {
     "name": "#%%\n"
    }
   }
  },
  {
   "cell_type": "code",
   "execution_count": 126,
   "outputs": [],
   "source": [],
   "metadata": {
    "collapsed": false,
    "pycharm": {
     "name": "#%%\n"
    }
   }
  }
 ],
 "metadata": {
  "kernelspec": {
   "display_name": "Python 3",
   "language": "python",
   "name": "python3"
  },
  "language_info": {
   "codemirror_mode": {
    "name": "ipython",
    "version": 2
   },
   "file_extension": ".py",
   "mimetype": "text/x-python",
   "name": "python",
   "nbconvert_exporter": "python",
   "pygments_lexer": "ipython2",
   "version": "2.7.6"
  }
 },
 "nbformat": 4,
 "nbformat_minor": 0
}